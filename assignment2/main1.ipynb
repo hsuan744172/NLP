{
  "cells": [
    {
      "cell_type": "markdown",
      "metadata": {
        "id": "045umz7P_c-B"
      },
      "source": [
        "# LSTM-arithmetic\n",
        "\n",
        "## Dataset\n",
        "- [Arithmetic dataset](https://drive.google.com/file/d/1cMuL3hF9jefka9RyF4gEBIGGeFGZYHE-/view?usp=sharing)"
      ]
    },
    {
      "cell_type": "code",
      "execution_count": 1,
      "metadata": {
        "colab": {
          "base_uri": "https://localhost:8080/"
        },
        "id": "hNHpagBd_c-D",
        "outputId": "36f8eee7-644e-49b9-cb18-9835e4ce2d94"
      },
      "outputs": [],
      "source": [
        "#! pip install seaborn\n",
        "#! pip install opencc\n",
        "#! pip install -U scikit-learn\n",
        "\n",
        "import numpy as np\n",
        "import pandas as pd\n",
        "import torch\n",
        "import torch.nn\n",
        "import torch.nn.utils.rnn\n",
        "import torch.utils.data\n",
        "import matplotlib.pyplot as plt\n",
        "import seaborn as sns\n",
        "import opencc\n",
        "import os\n",
        "from sklearn.model_selection import train_test_split\n",
        "\n",
        "data_path = './data'"
      ]
    },
    {
      "cell_type": "code",
      "execution_count": 2,
      "metadata": {
        "colab": {
          "base_uri": "https://localhost:8080/",
          "height": 206
        },
        "id": "CS47SYx1_c-E",
        "outputId": "a8e85332-9233-41b0-8988-9d1ccf8fb562"
      },
      "outputs": [
        {
          "data": {
            "text/html": [
              "<div>\n",
              "<style scoped>\n",
              "    .dataframe tbody tr th:only-of-type {\n",
              "        vertical-align: middle;\n",
              "    }\n",
              "\n",
              "    .dataframe tbody tr th {\n",
              "        vertical-align: top;\n",
              "    }\n",
              "\n",
              "    .dataframe thead th {\n",
              "        text-align: right;\n",
              "    }\n",
              "</style>\n",
              "<table border=\"1\" class=\"dataframe\">\n",
              "  <thead>\n",
              "    <tr style=\"text-align: right;\">\n",
              "      <th></th>\n",
              "      <th>src</th>\n",
              "      <th>tgt</th>\n",
              "    </tr>\n",
              "  </thead>\n",
              "  <tbody>\n",
              "    <tr>\n",
              "      <th>0</th>\n",
              "      <td>14*(43+20)=</td>\n",
              "      <td>882</td>\n",
              "    </tr>\n",
              "    <tr>\n",
              "      <th>1</th>\n",
              "      <td>(6+1)*5=</td>\n",
              "      <td>35</td>\n",
              "    </tr>\n",
              "    <tr>\n",
              "      <th>2</th>\n",
              "      <td>13+32+29=</td>\n",
              "      <td>74</td>\n",
              "    </tr>\n",
              "    <tr>\n",
              "      <th>3</th>\n",
              "      <td>31*(3-11)=</td>\n",
              "      <td>-248</td>\n",
              "    </tr>\n",
              "    <tr>\n",
              "      <th>4</th>\n",
              "      <td>24*49+1=</td>\n",
              "      <td>1177</td>\n",
              "    </tr>\n",
              "  </tbody>\n",
              "</table>\n",
              "</div>"
            ],
            "text/plain": [
              "           src   tgt\n",
              "0  14*(43+20)=   882\n",
              "1     (6+1)*5=    35\n",
              "2    13+32+29=    74\n",
              "3   31*(3-11)=  -248\n",
              "4     24*49+1=  1177"
            ]
          },
          "execution_count": 2,
          "metadata": {},
          "output_type": "execute_result"
        }
      ],
      "source": [
        "df_train = pd.read_csv(os.path.join(data_path, 'arithmetic_train.csv'))\n",
        "df_eval = pd.read_csv(os.path.join(data_path, 'arithmetic_eval.csv'))\n",
        "df_train.drop('Unnamed: 0', axis=1, inplace=True)\n",
        "df_eval.drop('Unnamed: 0', axis=1, inplace=True)\n",
        "df_train.head()"
      ]
    },
    {
      "cell_type": "code",
      "execution_count": 3,
      "metadata": {
        "id": "E0m_57m9_c-F"
      },
      "outputs": [],
      "source": [
        "# transform the input data to string\n",
        "df_train['tgt'] = df_train['tgt'].apply(lambda x: str(x))\n",
        "df_train['src'] = df_train['src'].add(df_train['tgt'])\n",
        "df_train['len'] = df_train['src'].apply(lambda x: len(x))\n",
        "\n",
        "df_eval['tgt'] = df_eval['tgt'].apply(lambda x: str(x))\n",
        "df_eval['src'] = df_eval['src'].add(df_eval['tgt'])\n",
        "df_eval['len'] = df_eval['src'].apply(lambda x: len(x))"
      ]
    },
    {
      "cell_type": "markdown",
      "metadata": {
        "id": "M1evemkv_c-F"
      },
      "source": [
        "# Build Dictionary\n",
        " - The model cannot perform calculations directly with plain text.\n",
        " - Convert all text (numbers/symbols) into numerical representations.\n",
        " - Special tokens\n",
        "    - '&lt;pad&gt;'\n",
        "        - Each sentence within a batch may have different lengths.\n",
        "        - The length is padded with '&lt;pad&gt;' to match the longest sentence in the batch.\n",
        "    - '&lt;eos&gt;'\n",
        "        - Specifies the end of the generated sequence.\n",
        "        - Without '&lt;eos&gt;', the model will not know when to stop generating."
      ]
    },
    {
      "cell_type": "code",
      "execution_count": 4,
      "metadata": {
        "colab": {
          "base_uri": "https://localhost:8080/"
        },
        "id": "tQIkBPXE_c-F",
        "outputId": "f1641179-d479-479f-e1d1-d47cfed56550"
      },
      "outputs": [
        {
          "name": "stdout",
          "output_type": "stream",
          "text": [
            "Vocab size19\n"
          ]
        }
      ],
      "source": [
        "char_to_id = {\n",
        "    '<pad>': 0,  # Padding token\n",
        "    '<eos>': 1,  # End\n",
        "    '0': 2, '1': 3, '2': 4, '3': 5, '4': 6,\n",
        "    '5': 7, '6': 8, '7': 9, '8': 10, '9': 11,\n",
        "    '+': 12, '-': 13, '*': 14, '/': 15,\n",
        "    '(': 16, ')': 17, '=': 18\n",
        "}\n",
        "\n",
        "# Create the inverse dictionary\n",
        "id_to_char = {v: k for k, v in char_to_id.items()}\n",
        "\n",
        "# Todo 1 write your code here\n",
        "# Build a dictionary and give every token in the train dataset an id\n",
        "# The dictionary should contain <eos> and <pad>\n",
        "# char_to_id is to conver charactors to ids, while id_to_char is the opposite\n",
        "\n",
        "vocab_size = len(char_to_id)\n",
        "print('Vocab size{}'.format(vocab_size))"
      ]
    },
    {
      "cell_type": "markdown",
      "metadata": {
        "id": "BbFHgdXq_c-G"
      },
      "source": [
        "# Data Preprocessing\n",
        " - The data is processed into the format required for the model's input and output.\n",
        " - Example: 1+2-3=0\n",
        "     - Model input: 1 + 2 - 3 = 0\n",
        "     - Model output: / / / / / 0 &lt;eos&gt;  (the '/' can be replaced with &lt;pad&gt;)\n",
        "     - The key for the model's output is that the model does not need to predict the next character of the previous part. What matters is that once the model sees '=', it should start generating the answer, which is '0'. After generating the answer, it should also generate&lt;eos&gt;\n"
      ]
    },
    {
      "cell_type": "code",
      "execution_count": 5,
      "metadata": {
        "colab": {
          "base_uri": "https://localhost:8080/",
          "height": 241
        },
        "id": "Zlp2sBP5_c-G",
        "outputId": "460d6025-4a1d-4294-fec6-0f11057e69c3"
      },
      "outputs": [
        {
          "data": {
            "text/html": [
              "<div>\n",
              "<style scoped>\n",
              "    .dataframe tbody tr th:only-of-type {\n",
              "        vertical-align: middle;\n",
              "    }\n",
              "\n",
              "    .dataframe tbody tr th {\n",
              "        vertical-align: top;\n",
              "    }\n",
              "\n",
              "    .dataframe thead th {\n",
              "        text-align: right;\n",
              "    }\n",
              "</style>\n",
              "<table border=\"1\" class=\"dataframe\">\n",
              "  <thead>\n",
              "    <tr style=\"text-align: right;\">\n",
              "      <th></th>\n",
              "      <th>src</th>\n",
              "      <th>tgt</th>\n",
              "      <th>len</th>\n",
              "      <th>char_id_list</th>\n",
              "      <th>label_id_list</th>\n",
              "    </tr>\n",
              "  </thead>\n",
              "  <tbody>\n",
              "    <tr>\n",
              "      <th>0</th>\n",
              "      <td>14*(43+20)=882</td>\n",
              "      <td>882</td>\n",
              "      <td>14</td>\n",
              "      <td>[3, 6, 14, 16, 6, 5, 12, 4, 2, 17, 18, 10, 10,...</td>\n",
              "      <td>[0, 0, 0, 0, 0, 0, 0, 0, 0, 0, 0, 10, 10, 4, 1]</td>\n",
              "    </tr>\n",
              "    <tr>\n",
              "      <th>1</th>\n",
              "      <td>(6+1)*5=35</td>\n",
              "      <td>35</td>\n",
              "      <td>10</td>\n",
              "      <td>[16, 8, 12, 3, 17, 14, 7, 18, 5, 7, 1]</td>\n",
              "      <td>[0, 0, 0, 0, 0, 0, 0, 0, 5, 7, 1]</td>\n",
              "    </tr>\n",
              "    <tr>\n",
              "      <th>2</th>\n",
              "      <td>13+32+29=74</td>\n",
              "      <td>74</td>\n",
              "      <td>11</td>\n",
              "      <td>[3, 5, 12, 5, 4, 12, 4, 11, 18, 9, 6, 1]</td>\n",
              "      <td>[0, 0, 0, 0, 0, 0, 0, 0, 0, 9, 6, 1]</td>\n",
              "    </tr>\n",
              "    <tr>\n",
              "      <th>3</th>\n",
              "      <td>31*(3-11)=-248</td>\n",
              "      <td>-248</td>\n",
              "      <td>14</td>\n",
              "      <td>[5, 3, 14, 16, 5, 13, 3, 3, 17, 18, 13, 4, 6, ...</td>\n",
              "      <td>[0, 0, 0, 0, 0, 0, 0, 0, 0, 0, 13, 4, 6, 10, 1]</td>\n",
              "    </tr>\n",
              "    <tr>\n",
              "      <th>4</th>\n",
              "      <td>24*49+1=1177</td>\n",
              "      <td>1177</td>\n",
              "      <td>12</td>\n",
              "      <td>[4, 6, 14, 6, 11, 12, 3, 18, 3, 3, 9, 9, 1]</td>\n",
              "      <td>[0, 0, 0, 0, 0, 0, 0, 0, 3, 3, 9, 9, 1]</td>\n",
              "    </tr>\n",
              "  </tbody>\n",
              "</table>\n",
              "</div>"
            ],
            "text/plain": [
              "              src   tgt  len  \\\n",
              "0  14*(43+20)=882   882   14   \n",
              "1      (6+1)*5=35    35   10   \n",
              "2     13+32+29=74    74   11   \n",
              "3  31*(3-11)=-248  -248   14   \n",
              "4    24*49+1=1177  1177   12   \n",
              "\n",
              "                                        char_id_list  \\\n",
              "0  [3, 6, 14, 16, 6, 5, 12, 4, 2, 17, 18, 10, 10,...   \n",
              "1             [16, 8, 12, 3, 17, 14, 7, 18, 5, 7, 1]   \n",
              "2           [3, 5, 12, 5, 4, 12, 4, 11, 18, 9, 6, 1]   \n",
              "3  [5, 3, 14, 16, 5, 13, 3, 3, 17, 18, 13, 4, 6, ...   \n",
              "4        [4, 6, 14, 6, 11, 12, 3, 18, 3, 3, 9, 9, 1]   \n",
              "\n",
              "                                     label_id_list  \n",
              "0  [0, 0, 0, 0, 0, 0, 0, 0, 0, 0, 0, 10, 10, 4, 1]  \n",
              "1                [0, 0, 0, 0, 0, 0, 0, 0, 5, 7, 1]  \n",
              "2             [0, 0, 0, 0, 0, 0, 0, 0, 0, 9, 6, 1]  \n",
              "3  [0, 0, 0, 0, 0, 0, 0, 0, 0, 0, 13, 4, 6, 10, 1]  \n",
              "4          [0, 0, 0, 0, 0, 0, 0, 0, 3, 3, 9, 9, 1]  "
            ]
          },
          "execution_count": 5,
          "metadata": {},
          "output_type": "execute_result"
        }
      ],
      "source": [
        "def preprocess_data(ids):\n",
        "    processed_ids = []\n",
        "    after_equal = False\n",
        "\n",
        "    for id in ids:\n",
        "        if id == char_to_id['=']:\n",
        "            after_equal = True\n",
        "            processed_ids.append(char_to_id['<pad>'])\n",
        "        elif after_equal:\n",
        "            processed_ids.append(id)\n",
        "        elif id == char_to_id['<eos>']:\n",
        "            after_equal = False\n",
        "            processed_ids.append(id)\n",
        "        else:\n",
        "            processed_ids.append(char_to_id['<pad>'])\n",
        "\n",
        "    return processed_ids\n",
        "\n",
        "# Applying the preprocessing steps\n",
        "def transform_data(df):\n",
        "    df['char_id_list'] = df['src'].apply(lambda x: [char_to_id[c] for c in x] + [char_to_id['<eos>']])\n",
        "    df['label_id_list'] = df['char_id_list'].apply(preprocess_data)\n",
        "\n",
        "transform_data(df_train)\n",
        "transform_data(df_eval)\n",
        "\n",
        "df_train.head()\n"
      ]
    },
    {
      "cell_type": "markdown",
      "metadata": {
        "id": "i8yx3QLC_c-G"
      },
      "source": [
        "# Hyper Parameters\n",
        "\n",
        "|Hyperparameter|Meaning|Value|\n",
        "|-|-|-|\n",
        "|`batch_size`|Number of data samples in a single batch|64|\n",
        "|`epochs`|Total number of epochs to train|10|\n",
        "|`embed_dim`|Dimension of the word embeddings|256|\n",
        "|`hidden_dim`|Dimension of the hidden state in each timestep of the LSTM|256|\n",
        "|`lr`|Learning Rate|0.001|\n",
        "|`grad_clip`|To prevent gradient explosion in RNNs, restrict the gradient range|1|"
      ]
    },
    {
      "cell_type": "code",
      "execution_count": 6,
      "metadata": {
        "id": "R2CmHEa4_c-G"
      },
      "outputs": [],
      "source": [
        "batch_size = 64\n",
        "epochs = 2\n",
        "embed_dim = 256\n",
        "hidden_dim = 256\n",
        "lr = 0.001\n",
        "grad_clip = 1"
      ]
    },
    {
      "cell_type": "markdown",
      "metadata": {
        "id": "axRIJueb_c-G"
      },
      "source": [
        "# Data Batching\n",
        "- Use `torch.utils.data.Dataset` to create a data generation tool called  `dataset`.\n",
        "- The, use `torch.utils.data.DataLoader` to randomly sample from the `dataset` and group the samples into batches."
      ]
    },
    {
      "cell_type": "code",
      "execution_count": 9,
      "metadata": {
        "id": "r2-n7I6W_c-G"
      },
      "outputs": [],
      "source": [
        "class Dataset(torch.utils.data.Dataset):\n",
        "    def __init__(self, sequences):\n",
        "        self.sequences = sequences\n",
        "\n",
        "    def __len__(self):\n",
        "        # return the amount of data\n",
        "        return len(self.sequences)# Write your code here\n",
        "\n",
        "    def __getitem__(self, index):\n",
        "        # Extract the input data x and the ground truth y from the data\n",
        "        x = self.sequences.iloc[index]['char_id_list'][:-1]  # Remove the last element for input\n",
        "        y = self.sequences.iloc[index]['label_id_list'][1:] \n",
        "        return x, y\n",
        "\n",
        "# collate function, used to build dataloader\n",
        "def collate_fn(batch):\n",
        "    batch_x = [torch.tensor(data[0]) for data in batch]\n",
        "    batch_y = [torch.tensor(data[1]) for data in batch]\n",
        "    batch_x_lens = torch.LongTensor([len(x) for x in batch_x])\n",
        "    batch_y_lens = torch.LongTensor([len(y) for y in batch_y])\n",
        "\n",
        "    # Pad the input sequence\n",
        "    pad_batch_x = torch.nn.utils.rnn.pad_sequence(batch_x,\n",
        "                                                  batch_first=True,\n",
        "                                                  padding_value=char_to_id['<pad>'])\n",
        "\n",
        "    pad_batch_y = torch.nn.utils.rnn.pad_sequence(batch_y,\n",
        "                                                  batch_first=True,\n",
        "                                                  padding_value=char_to_id['<pad>'])\n",
        "\n",
        "    return pad_batch_x, pad_batch_y, batch_x_lens, batch_y_lens"
      ]
    },
    {
      "cell_type": "code",
      "execution_count": 10,
      "metadata": {
        "id": "o6Cnk75c_c-G"
      },
      "outputs": [],
      "source": [
        "ds_train = Dataset(df_train[['char_id_list', 'label_id_list']])\n",
        "ds_eval = Dataset(df_eval[['char_id_list', 'label_id_list']])"
      ]
    },
    {
      "cell_type": "code",
      "execution_count": 11,
      "metadata": {
        "id": "I44kMviv_c-H"
      },
      "outputs": [],
      "source": [
        "# Build dataloader of train set and eval set, collate_fn is the collate function\n",
        "from torch.utils.data import DataLoader\n",
        "\n",
        "# Create DataLoader for training and evaluation sets\n",
        "dl_train = DataLoader(ds_train, batch_size=batch_size, collate_fn=collate_fn, shuffle=True)\n",
        "dl_eval = DataLoader(ds_eval, batch_size=batch_size, collate_fn=collate_fn)\n"
      ]
    },
    {
      "cell_type": "markdown",
      "metadata": {
        "id": "StH5Z3qh_c-H"
      },
      "source": [
        "# Model Design\n",
        "\n",
        "## Execution Flow\n",
        "1. Convert all characters in the sentence into embeddings.\n",
        "2. Pass the embeddings through an LSTM sequentially.\n",
        "3. The output of the LSTM is passed into another LSTM, and additional layers can be added.\n",
        "4. The output from all time steps of the final LSTM is passed through a Fully Connected layer.\n",
        "5. The character corresponding to the maximum value across all output dimensions is selected as the next character.\n",
        "\n",
        "## Loss Function\n",
        "Since this is a classification task, Cross Entropy is used as the loss function.\n",
        "\n",
        "## Gradient Update\n",
        "Adam algorithm is used for gradient updates."
      ]
    },
    {
      "cell_type": "code",
      "execution_count": 12,
      "metadata": {
        "id": "RMWmAetc_c-H"
      },
      "outputs": [],
      "source": [
        "class CharRNN(torch.nn.Module):\n",
        "    def __init__(self, vocab_size, embed_dim, hidden_dim):\n",
        "        super(CharRNN, self).__init__()\n",
        "        self.embedding = torch.nn.Embedding(num_embeddings=vocab_size,\n",
        "                                            embedding_dim=embed_dim,\n",
        "                                            padding_idx=char_to_id['<pad>'])\n",
        "\n",
        "        self.rnn_layer1 = torch.nn.LSTM(input_size=embed_dim,\n",
        "                                        hidden_size=hidden_dim,\n",
        "                                        batch_first=True)\n",
        "\n",
        "        self.rnn_layer2 = torch.nn.LSTM(input_size=hidden_dim,\n",
        "                                        hidden_size=hidden_dim,\n",
        "                                        batch_first=True)\n",
        "\n",
        "        self.linear = torch.nn.Sequential(torch.nn.Linear(in_features=hidden_dim,\n",
        "                                                          out_features=hidden_dim),\n",
        "                                          torch.nn.ReLU(),\n",
        "                                          torch.nn.Linear(in_features=hidden_dim,\n",
        "                                                          out_features=vocab_size))\n",
        "\n",
        "    def forward(self, batch_x, batch_x_lens):\n",
        "        return self.encoder(batch_x, batch_x_lens)\n",
        "\n",
        "    # The forward pass of the model\n",
        "    def encoder(self, batch_x, batch_x_lens):\n",
        "        batch_x = self.embedding(batch_x)\n",
        "\n",
        "        batch_x = torch.nn.utils.rnn.pack_padded_sequence(batch_x,\n",
        "                                                          batch_x_lens,\n",
        "                                                          batch_first=True,\n",
        "                                                          enforce_sorted=False)\n",
        "\n",
        "        batch_x, _ = self.rnn_layer1(batch_x)\n",
        "        batch_x, _ = self.rnn_layer2(batch_x)\n",
        "\n",
        "        batch_x, _ = torch.nn.utils.rnn.pad_packed_sequence(batch_x,\n",
        "                                                            batch_first=True)\n",
        "\n",
        "        batch_x = self.linear(batch_x)\n",
        "\n",
        "        return batch_x\n",
        "\n",
        "    def generator(self, start_char, max_len=200):\n",
        "\n",
        "        char_list = [char_to_id[c] for c in start_char]\n",
        "\n",
        "        next_char = None\n",
        "\n",
        "        while len(char_list) < max_len:\n",
        "            # Write your code here\n",
        "            # Pack the char_list to tensor\n",
        "            input_tensor = torch.tensor(char_list, dtype=torch.long).unsqueeze(0).to(next(self.parameters()).device)\n",
        "            # Input the tensor to the embedding layer, LSTM layers, linear respectively\n",
        "            with torch.no_grad():\n",
        "                embedded = self.embedding(input_tensor)\n",
        "                packed_output = torch.nn.utils.rnn.pack_padded_sequence(embedded, torch.tensor([len(char_list)]), batch_first=True)\n",
        "                lstm_out, _ = self.rnn_layer1(packed_output)\n",
        "                lstm_out, _ = self.rnn_layer2(lstm_out)\n",
        "                y = self.linear(lstm_out[0][-1])\n",
        "\n",
        "            next_char = torch.argmax(y, dim=-1).item()# Use argmax function to get the next token prediction\n",
        "\n",
        "            if next_char == char_to_id['<eos>']:\n",
        "                break\n",
        "\n",
        "            char_list.append(next_char)\n",
        "\n",
        "        return [id_to_char[ch_id] for ch_id in char_list]"
      ]
    },
    {
      "cell_type": "code",
      "execution_count": 13,
      "metadata": {
        "id": "kTPTxoFb_c-H"
      },
      "outputs": [],
      "source": [
        "torch.manual_seed(2)\n",
        "\n",
        "\n",
        "device = torch.device(\"cuda\" if torch.cuda.is_available() else \"cpu\")\n",
        "\n",
        "model = CharRNN(vocab_size,\n",
        "                embed_dim,\n",
        "                hidden_dim)"
      ]
    },
    {
      "cell_type": "code",
      "execution_count": 14,
      "metadata": {
        "id": "Bw_6TfNv_c-H"
      },
      "outputs": [],
      "source": [
        "import torch.nn as nn\n",
        "import torch.optim as optim\n",
        "criterion = nn.CrossEntropyLoss(ignore_index=char_to_id['<pad>'])\n",
        "optimizer = optim.Adam(model.parameters(), lr=lr)"
      ]
    },
    {
      "cell_type": "markdown",
      "metadata": {
        "id": "x-wbccH5_c-H"
      },
      "source": [
        "# Training\n",
        "1. The outer `for` loop controls the `epoch`\n",
        "    1. The inner `for` loop uses `data_loader` to retrieve batches.\n",
        "        1. Pass the batch to the `model` for training.\n",
        "        2. Compare the predicted results `batch_pred_y` with the true labels `batch_y` using Cross Entropy to calculate the loss `loss`\n",
        "        3. Use `loss.backward` to automatically compute the gradients.\n",
        "        4. Use `torch.nn.utils.clip_grad_value_` to limit the gradient values between `-grad_clip` &lt; and &lt; `grad_clip`.\n",
        "        5. Use `optimizer.step()` to update the model (backpropagation).\n",
        "2.  After every `1000` batches, output the current loss to monitor whether it is converging."
      ]
    },
    {
      "cell_type": "code",
      "execution_count": 15,
      "metadata": {
        "colab": {
          "base_uri": "https://localhost:8080/"
        },
        "id": "dvnqxGpv_c-H",
        "outputId": "4d76cd81-455c-4ff3-9cab-73c3bc2b32ab"
      },
      "outputs": [
        {
          "name": "stderr",
          "output_type": "stream",
          "text": [
            "Train epoch 1: 100%|██████████| 37020/37020 [24:54<00:00, 24.78it/s, loss=0.381]\n",
            "Validation epoch 1: 100%|██████████| 4114/4114 [00:59<00:00, 69.35it/s]\n"
          ]
        },
        {
          "name": "stdout",
          "output_type": "stream",
          "text": [
            "Validation accuracy: 0.21170886962315857\n",
            "0.21170886962315857\n"
          ]
        },
        {
          "name": "stderr",
          "output_type": "stream",
          "text": [
            "Train epoch 2: 100%|██████████| 37020/37020 [27:24<00:00, 22.51it/s, loss=0.255] \n",
            "Validation epoch 2: 100%|██████████| 4114/4114 [01:02<00:00, 65.55it/s]"
          ]
        },
        {
          "name": "stdout",
          "output_type": "stream",
          "text": [
            "Validation accuracy: 0.224548376523982\n",
            "0.224548376523982\n"
          ]
        },
        {
          "name": "stderr",
          "output_type": "stream",
          "text": [
            "\n"
          ]
        }
      ],
      "source": [
        "from tqdm import tqdm\n",
        "from copy import deepcopy\n",
        "model = model.to(device)\n",
        "model.train()\n",
        "i = 0\n",
        "for epoch in range(1, epochs+1):\n",
        "    # The process bar\n",
        "    bar = tqdm(dl_train, desc=f\"Train epoch {epoch}\")\n",
        "    for batch_x, batch_y, batch_x_lens, batch_y_lens in bar:\n",
        "        # Write your code here\n",
        "        # Clear the gradient\n",
        "        optimizer.zero_grad()\n",
        "        batch_pred_y = model(batch_x.to(device), batch_x_lens)\n",
        "\n",
        "        # Write your code here\n",
        "        # Input the prediction and ground truths to loss function\n",
        "        loss = criterion(batch_pred_y.view(-1, vocab_size), batch_y.view(-1).to(device))\n",
        "        # Back propagation\n",
        "        loss.backward()\n",
        "        torch.nn.utils.clip_grad_value_(model.parameters(), grad_clip) # gradient clipping\n",
        "\n",
        "        # Write your code here\n",
        "        # Optimize parameters in the model\n",
        "        optimizer.step()\n",
        "        i+=1\n",
        "        if i%50==0:\n",
        "            bar.set_postfix(loss = loss.item())\n",
        "\n",
        "    # Evaluate your model\n",
        "    model.eval()\n",
        "    bar = tqdm(dl_eval, desc=f\"Validation epoch {epoch}\")\n",
        "    matched = 0\n",
        "    total = 0\n",
        "    for batch_x, batch_y, batch_x_lens, batch_y_lens in bar:\n",
        "\n",
        "        predictions = model(batch_x.to(device), batch_x_lens)\n",
        "\n",
        "        # Get the predicted tokens\n",
        "        pred_tokens = torch.argmax(predictions, dim=-1)\n",
        "\n",
        "        # Check whether the predictions match the ground truths\n",
        "        matched += (pred_tokens == batch_y.to(device)).sum().item()\n",
        "        total += batch_y.numel()\n",
        "    accuracy = matched / total if total > 0 else 0\n",
        "    print(f\"Validation accuracy: {accuracy}\")\n",
        "    model.train()# Set the model to training mode\n",
        "\n",
        "\n",
        "    print(matched/total)"
      ]
    },
    {
      "cell_type": "markdown",
      "metadata": {
        "id": "ZNmnNHPG_c-H"
      },
      "source": [
        "# Generation\n",
        "Use `model.generator` and provide an initial character to automatically generate a sequence."
      ]
    },
    {
      "cell_type": "code",
      "execution_count": 18,
      "metadata": {
        "id": "w7ZLbFs6_c-H"
      },
      "outputs": [
        {
          "name": "stdout",
          "output_type": "stream",
          "text": [
            "2+3(4-1)=17\n"
          ]
        }
      ],
      "source": [
        "model = model.to(\"cpu\")\n",
        "print(\"\".join(model.generator(\"2+3(4-1)=\")))"
      ]
    }
  ],
  "metadata": {
    "accelerator": "GPU",
    "colab": {
      "gpuType": "T4",
      "provenance": []
    },
    "kernelspec": {
      "display_name": ".venv",
      "language": "python",
      "name": "python3"
    },
    "language_info": {
      "codemirror_mode": {
        "name": "ipython",
        "version": 3
      },
      "file_extension": ".py",
      "mimetype": "text/x-python",
      "name": "python",
      "nbconvert_exporter": "python",
      "pygments_lexer": "ipython3",
      "version": "3.11.10"
    }
  },
  "nbformat": 4,
  "nbformat_minor": 0
}
